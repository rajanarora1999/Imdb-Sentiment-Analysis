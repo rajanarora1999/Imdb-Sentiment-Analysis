{
  "nbformat": 4,
  "nbformat_minor": 0,
  "metadata": {
    "colab": {
      "name": "Untitled0.ipynb",
      "provenance": []
    },
    "kernelspec": {
      "name": "python3",
      "display_name": "Python 3"
    },
    "accelerator": "TPU"
  },
  "cells": [
    {
      "cell_type": "code",
      "metadata": {
        "id": "cG1rKbBTg8qF"
      },
      "source": [
        "from keras.datasets import imdb\r\n",
        "import numpy as np\r\n",
        "#import imdb dataset from keras! \r\n",
        "#we will classify the data into positive or negative"
      ],
      "execution_count": 56,
      "outputs": []
    },
    {
      "cell_type": "code",
      "metadata": {
        "colab": {
          "base_uri": "https://localhost:8080/"
        },
        "id": "lzXk15XQhOuG",
        "outputId": "eff724d5-c23b-4f4b-ef88-55273e48d097"
      },
      "source": [
        "#Data preparation\r\n",
        "((X_train,Y_train),(X_test,Y_test))=imdb.load_data(num_words=10000)\r\n",
        "#num of words in vocab=10000"
      ],
      "execution_count": 57,
      "outputs": [
        {
          "output_type": "stream",
          "text": [
            "<string>:6: VisibleDeprecationWarning: Creating an ndarray from ragged nested sequences (which is a list-or-tuple of lists-or-tuples-or ndarrays with different lengths or shapes) is deprecated. If you meant to do this, you must specify 'dtype=object' when creating the ndarray\n",
            "/usr/local/lib/python3.6/dist-packages/tensorflow/python/keras/datasets/imdb.py:159: VisibleDeprecationWarning: Creating an ndarray from ragged nested sequences (which is a list-or-tuple of lists-or-tuples-or ndarrays with different lengths or shapes) is deprecated. If you meant to do this, you must specify 'dtype=object' when creating the ndarray\n",
            "  x_train, y_train = np.array(xs[:idx]), np.array(labels[:idx])\n",
            "/usr/local/lib/python3.6/dist-packages/tensorflow/python/keras/datasets/imdb.py:160: VisibleDeprecationWarning: Creating an ndarray from ragged nested sequences (which is a list-or-tuple of lists-or-tuples-or ndarrays with different lengths or shapes) is deprecated. If you meant to do this, you must specify 'dtype=object' when creating the ndarray\n",
            "  x_test, y_test = np.array(xs[idx:]), np.array(labels[idx:])\n"
          ],
          "name": "stderr"
        }
      ]
    },
    {
      "cell_type": "code",
      "metadata": {
        "id": "tSgPyN6Zhy8g"
      },
      "source": [
        "#print(X_train[0])\r\n",
        "#words a mapped to numbers according to the vocab. this is automatically done by keras"
      ],
      "execution_count": 58,
      "outputs": []
    },
    {
      "cell_type": "code",
      "metadata": {
        "id": "EpLslmvPh5sp"
      },
      "source": [
        "#dictionary i.e word to index mapping done by keras\r\n",
        "vocab=imdb.get_word_index()\r\n",
        "#print(vocab.items())"
      ],
      "execution_count": 59,
      "outputs": []
    },
    {
      "cell_type": "code",
      "metadata": {
        "id": "UPxmZJULiO4D"
      },
      "source": [
        "#to create  a index to number mapping\r\n",
        "idx_to_word=dict([[value,key] for (key,value) in vocab.items()])"
      ],
      "execution_count": 60,
      "outputs": []
    },
    {
      "cell_type": "code",
      "metadata": {
        "id": "T--F7blbixWO"
      },
      "source": [
        "#print(idx_to_word)"
      ],
      "execution_count": 61,
      "outputs": []
    },
    {
      "cell_type": "code",
      "metadata": {
        "id": "K880eHffiy5k"
      },
      "source": [
        "actual_review=' '.join([idx_to_word.get(idx-3,\"#\") for idx in X_train[0]])\r\n",
        "#we took the first example and then took each index from first example and found the word ccorresponding to it and joined them.\r\n",
        "#get method gets the value from dictionary when a key is given. if thet key is not found then it will return \"#\"(we can return anything)\r\n",
        "#we did index-3 because keras automatically adds 3 extra words to each sentence"
      ],
      "execution_count": 62,
      "outputs": []
    },
    {
      "cell_type": "code",
      "metadata": {
        "id": "CtUZ3WlKjYT5"
      },
      "source": [
        "#print(actual_review)"
      ],
      "execution_count": 63,
      "outputs": []
    },
    {
      "cell_type": "code",
      "metadata": {
        "id": "rt9C1_5GjgOL"
      },
      "source": [
        "#Now Vectorize the data\r\n",
        "#Because each example has to have fixed number of features\r\n",
        "# vector size is 10000 as we have 10000 words in vocab\r\n",
        "def vectorize_sentences(sentences,dim=10000):\r\n",
        "  outputs=np.zeros((len(sentences),dim))\r\n",
        "  for i,idx in enumerate(sentences):\r\n",
        "    #enumerate returns a tuple i.e one is index of sentence and other is index of word\r\n",
        "    outputs[i,idx]= 1\r\n",
        "  return outputs"
      ],
      "execution_count": 64,
      "outputs": []
    },
    {
      "cell_type": "code",
      "metadata": {
        "id": "NYzH8pdIlUNl"
      },
      "source": [
        "X_train=vectorize_sentences(X_train)"
      ],
      "execution_count": 65,
      "outputs": []
    },
    {
      "cell_type": "code",
      "metadata": {
        "id": "_VXMW6tZlZyp"
      },
      "source": [
        "X_test=vectorize_sentences(X_test)"
      ],
      "execution_count": 66,
      "outputs": []
    },
    {
      "cell_type": "code",
      "metadata": {
        "id": "9Oir-ew4lkXN"
      },
      "source": [
        "#X_train.shape"
      ],
      "execution_count": 67,
      "outputs": []
    },
    {
      "cell_type": "code",
      "metadata": {
        "id": "M7QMSA4Jllm2"
      },
      "source": [
        "Y_train=np.array(Y_train).astype('float32')\r\n",
        "Y_test=np.array(Y_test).astype('float32')"
      ],
      "execution_count": 68,
      "outputs": []
    },
    {
      "cell_type": "code",
      "metadata": {
        "id": "kzNWk169l3Iy"
      },
      "source": [
        "#Build A Network\r\n",
        "#We will use ReLU as activation fn\r\n",
        "# At output Layer we will use Sigmoid as activation fn\r\n",
        "# 2 Hidden Layers with 16 units each\r\n",
        "from keras import models\r\n",
        "from keras.layers import Dense"
      ],
      "execution_count": 69,
      "outputs": []
    },
    {
      "cell_type": "code",
      "metadata": {
        "id": "x0RAgRkGmegE"
      },
      "source": [
        "#define the model\r\n",
        "model=models.Sequential()"
      ],
      "execution_count": 70,
      "outputs": []
    },
    {
      "cell_type": "code",
      "metadata": {
        "id": "oNAOVPFWmnX6"
      },
      "source": [
        "model.add(Dense(16,activation='relu',input_shape=(10000,)))\r\n",
        "model.add(Dense(16,activation='relu'))\r\n",
        "model.add(Dense(1,activation='sigmoid'))"
      ],
      "execution_count": 71,
      "outputs": []
    },
    {
      "cell_type": "code",
      "metadata": {
        "id": "IyhNHeeQnHcy"
      },
      "source": [
        "#compile the model\r\n",
        "model.compile(optimizer='rmsprop',loss='binary_crossentropy',metrics=['accuracy'])\r\n"
      ],
      "execution_count": 72,
      "outputs": []
    },
    {
      "cell_type": "code",
      "metadata": {
        "id": "SBvjI-NLnt8q"
      },
      "source": [
        "#model.summary()"
      ],
      "execution_count": 73,
      "outputs": []
    },
    {
      "cell_type": "code",
      "metadata": {
        "id": "DUSjz82Bnw7-"
      },
      "source": [
        "#Training & Validation\r\n",
        "#Our model may overfit on training data but may perform bad on testing data\r\n",
        "#So we should stop the training at that point where our test accuracy is maxm(early Stopping)\r\n",
        "x_val=X_train[:5000]\r\n",
        "#take first 5000 examples for validation set\r\n",
        "x_train_new=X_train[5000:]\r\n",
        "y_val=Y_train[:5000]\r\n",
        "y_train_new=Y_train[5000:]"
      ],
      "execution_count": 74,
      "outputs": []
    },
    {
      "cell_type": "code",
      "metadata": {
        "colab": {
          "base_uri": "https://localhost:8080/"
        },
        "id": "92QzoY2cpfyY",
        "outputId": "4b4bc94e-be86-41d0-b7be-9dcb4f53deec"
      },
      "source": [
        "#train the model\r\n",
        "hist=model.fit(x_train_new,y_train_new,epochs=4,batch_size=512,validation_data=(x_val,y_val))"
      ],
      "execution_count": 75,
      "outputs": [
        {
          "output_type": "stream",
          "text": [
            "Epoch 1/4\n",
            "40/40 [==============================] - 2s 27ms/step - loss: 0.5473 - accuracy: 0.7343 - val_loss: 0.3284 - val_accuracy: 0.8816\n",
            "Epoch 2/4\n",
            "40/40 [==============================] - 1s 19ms/step - loss: 0.2726 - accuracy: 0.9085 - val_loss: 0.3185 - val_accuracy: 0.8698\n",
            "Epoch 3/4\n",
            "40/40 [==============================] - 1s 19ms/step - loss: 0.2042 - accuracy: 0.9288 - val_loss: 0.3109 - val_accuracy: 0.8740\n",
            "Epoch 4/4\n",
            "40/40 [==============================] - 1s 19ms/step - loss: 0.1608 - accuracy: 0.9468 - val_loss: 0.3102 - val_accuracy: 0.8772\n"
          ],
          "name": "stdout"
        }
      ]
    },
    {
      "cell_type": "code",
      "metadata": {
        "id": "PHeVuR-nqABB"
      },
      "source": [
        "#Visualise The Results\r\n",
        "import matplotlib.pyplot as plt\r\n",
        "h=hist.history\r\n",
        "#it is a dictionary of key as accuracy and list of accuracies, then loss and validation loss as key and their values\r\n",
        "#print(h.keys())"
      ],
      "execution_count": 76,
      "outputs": []
    },
    {
      "cell_type": "code",
      "metadata": {
        "colab": {
          "base_uri": "https://localhost:8080/",
          "height": 279
        },
        "id": "_tivPpeKqRCq",
        "outputId": "1159c711-132d-4455-bb35-24ca9f905d0c"
      },
      "source": [
        "plt.plot(h['val_loss'],label='validation loss')\r\n",
        "plt.plot(h['loss'],label='training loss')\r\n",
        "plt.legend()\r\n",
        "plt.xlabel('epochs')\r\n",
        "plt.ylabel('loss')\r\n",
        "plt.show()\r\n"
      ],
      "execution_count": 77,
      "outputs": [
        {
          "output_type": "display_data",
          "data": {
            "image/png": "[encoded data removed]",
            "text/plain": [
              "<Figure size 432x288 with 1 Axes>"
            ]
          },
          "metadata": {
            "tags": [],
            "needs_background": "light"
          }
        }
      ]
    },
    {
      "cell_type": "code",
      "metadata": {
        "colab": {
          "base_uri": "https://localhost:8080/",
          "height": 279
        },
        "id": "SEmOanl3qncv",
        "outputId": "e0a21e8c-504e-4c71-c2e7-ede87ffc9602"
      },
      "source": [
        "plt.plot(h['val_accuracy'],label='validation accuracy')\r\n",
        "plt.plot(h['accuracy'],label='training accuracy')\r\n",
        "plt.legend()\r\n",
        "plt.xlabel('epochs')\r\n",
        "plt.ylabel('accuracy')\r\n",
        "plt.show()\r\n"
      ],
      "execution_count": 78,
      "outputs": [
        {
          "output_type": "display_data",
          "data": {
            "image/png": "[encoded data removed]",
            "text/plain": [
              "<Figure size 432x288 with 1 Axes>"
            ]
          },
          "metadata": {
            "tags": [],
            "needs_background": "light"
          }
        }
      ]
    },
    {
      "cell_type": "code",
      "metadata": {
        "colab": {
          "base_uri": "https://localhost:8080/"
        },
        "id": "GOBdW8WIsCXK",
        "outputId": "0bdd9b55-d3c0-4a0b-92ad-cae6d6ca8ff8"
      },
      "source": [
        "# we see the val accuracy is now 86%\r\n",
        "acc_on_test=model.evaluate(X_test,Y_test)\r\n"
      ],
      "execution_count": 79,
      "outputs": [
        {
          "output_type": "stream",
          "text": [
            "782/782 [==============================] - 1s 1ms/step - loss: 0.3403 - accuracy: 0.8658\n"
          ],
          "name": "stdout"
        },
        {
          "output_type": "execute_result",
          "data": {
            "text/plain": [
              "[0.34030038118362427, 0.8658400177955627]"
            ]
          },
          "metadata": {
            "tags": []
          },
          "execution_count": 79
        }
      ]
    },
    {
      "cell_type": "code",
      "metadata": {
        "id": "6oSEm9CPsPFw"
      },
      "source": [
        "y_pred=model.predict(X_test)"
      ],
      "execution_count": 80,
      "outputs": []
    },
    {
      "cell_type": "code",
      "metadata": {
        "id": "cfAs940HspQG"
      },
      "source": [
        "y_pred[y_pred>=0.5]=1\r\n",
        "y_pred[y_pred<0.5]=0\r\n",
        "#review is positive if Y-pred is 1 else revieew is negative"
      ],
      "execution_count": 87,
      "outputs": []
    },
    {
      "cell_type": "code",
      "metadata": {
        "id": "Rmd52aR_1cVr"
      },
      "source": [
        ""
      ],
      "execution_count": null,
      "outputs": []
    }
  ]
}